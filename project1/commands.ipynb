{
 "cells": [
  {
   "cell_type": "code",
   "execution_count": 1,
   "metadata": {
    "pycharm": {
     "is_executing": false
    }
   },
   "outputs": [],
   "source": [
    "from sklearn.tree import DecisionTreeClassifier\n",
    "import multiclass\n",
    "import util\n",
    "from datasets import *"
   ]
  },
  {
   "cell_type": "code",
   "execution_count": 3,
   "metadata": {
    "pycharm": {
     "is_executing": false
    }
   },
   "outputs": [
    {
     "name": "stdout",
     "text": [
      "training classifier for 0 versus rest\ntraining classifier for 1 versus rest\ntraining classifier for 2 versus rest\ntraining classifier for 3 versus rest\ntraining classifier for 4 versus rest\ntraining classifier for 5 versus rest\ntraining classifier for 6 versus rest\ntraining classifier for 7 versus rest\ntraining classifier for 8 versus rest\ntraining classifier for 9 versus rest\ntraining classifier for 10 versus rest\ntraining classifier for 11 versus rest\ntraining classifier for 12 versus rest\ntraining classifier for 13 versus rest\ntraining classifier for 14 versus rest\ntraining classifier for 15 versus rest\ntraining classifier for 16 versus rest\ntraining classifier for 17 versus rest\ntraining classifier for 18 versus rest\ntraining classifier for 19 versus rest\n"
     ],
     "output_type": "stream"
    }
   ],
   "source": [
    "h = multiclass.OAA(20, lambda: DecisionTreeClassifier(max_depth=1))\n",
    "h.train(WineData.X, WineData.Y)\n",
    "P = h.predictAll(WineData.Xte)"
   ]
  },
  {
   "cell_type": "code",
   "execution_count": 4,
   "metadata": {
    "pycharm": {
     "is_executing": false
    }
   },
   "outputs": [
    {
     "data": {
      "text/plain": "0.2949907235621521"
     },
     "metadata": {},
     "output_type": "execute_result",
     "execution_count": 4
    }
   ],
   "source": [
    "mean(P == WineData.Yte)"
   ]
  },
  {
   "cell_type": "code",
   "execution_count": 5,
   "metadata": {
    "pycharm": {
     "is_executing": false
    }
   },
   "outputs": [
    {
     "data": {
      "text/plain": "0.1725417439703154"
     },
     "metadata": {},
     "output_type": "execute_result",
     "execution_count": 5
    }
   ],
   "source": [
    "mode(WineData.Y)\n",
    "mean(WineData.Yte == 1)"
   ]
  },
  {
   "cell_type": "code",
   "execution_count": 6,
   "outputs": [
    {
     "data": {
      "text/plain": "'Cabernet-Sauvignon'"
     },
     "metadata": {},
     "output_type": "execute_result",
     "execution_count": 6
    }
   ],
   "source": [
    "WineData.labels[1]"
   ],
   "metadata": {
    "collapsed": false,
    "pycharm": {
     "name": "#%%\n",
     "is_executing": false
    }
   }
  },
  {
   "cell_type": "code",
   "execution_count": 7,
   "outputs": [
    {
     "data": {
      "text/plain": "0.19109461966604824"
     },
     "metadata": {},
     "output_type": "execute_result",
     "execution_count": 7
    }
   ],
   "source": [
    "P = h.predictAll(WineData.Xte, useZeroOne=True)\n",
    "mean(WineData.Yte == P)"
   ],
   "metadata": {
    "collapsed": false,
    "pycharm": {
     "name": "#%%\n",
     "is_executing": false
    }
   }
  },
  {
   "cell_type": "code",
   "execution_count": 8,
   "outputs": [
    {
     "name": "stdout",
     "text": [
      "training classifier for 1 versus 0\ntraining classifier for 2 versus 0\ntraining classifier for 2 versus 1\ntraining classifier for 3 versus 0\ntraining classifier for 3 versus 1\ntraining classifier for 3 versus 2\ntraining classifier for 4 versus 0\ntraining classifier for 4 versus 1\ntraining classifier for 4 versus 2\ntraining classifier for 4 versus 3\n"
     ],
     "output_type": "stream"
    },
    {
     "data": {
      "text/plain": "0.5492341356673961"
     },
     "metadata": {},
     "output_type": "execute_result",
     "execution_count": 8
    }
   ],
   "source": [
    "h = multiclass.AVA(5, lambda: DecisionTreeClassifier(max_depth=3))\n",
    "h.train(WineDataSmall.X, WineDataSmall.Y)\n",
    "P = h.predictAll(WineDataSmall.Xte, useZeroOne=False)\n",
    "mean(WineDataSmall.Yte == P)"
   ],
   "metadata": {
    "collapsed": false,
    "pycharm": {
     "name": "#%%\n",
     "is_executing": false
    }
   }
  },
  {
   "cell_type": "code",
   "execution_count": 9,
   "outputs": [
    {
     "data": {
      "text/plain": "0.40700218818380746"
     },
     "metadata": {},
     "output_type": "execute_result",
     "execution_count": 9
    }
   ],
   "source": [
    "mean(WineDataSmall.Yte == 1)"
   ],
   "metadata": {
    "collapsed": false,
    "pycharm": {
     "name": "#%%\n",
     "is_executing": false
    }
   }
  },
  {
   "cell_type": "code",
   "execution_count": 10,
   "outputs": [
    {
     "data": {
      "text/plain": "'Pinot-Noir'"
     },
     "metadata": {},
     "output_type": "execute_result",
     "execution_count": 10
    }
   ],
   "source": [
    "WineDataSmall.labels[2]"
   ],
   "metadata": {
    "collapsed": false,
    "pycharm": {
     "name": "#%%\n",
     "is_executing": false
    }
   }
  },
  {
   "cell_type": "code",
   "execution_count": 11,
   "outputs": [
    {
     "name": "stdout",
     "text": [
      "[[],\n [DecisionTreeClassifier(class_weight=None, criterion='gini', max_depth=3,\n                       max_features=None, max_leaf_nodes=None,\n                       min_impurity_decrease=0.0, min_impurity_split=None,\n                       min_samples_leaf=1, min_samples_split=2,\n                       min_weight_fraction_leaf=0.0, presort=False,\n                       random_state=None, splitter='best')],\n [DecisionTreeClassifier(class_weight=None, criterion='gini', max_depth=3,\n                       max_features=None, max_leaf_nodes=None,\n                       min_impurity_decrease=0.0, min_impurity_split=None,\n                       min_samples_leaf=1, min_samples_split=2,\n                       min_weight_fraction_leaf=0.0, presort=False,\n                       random_state=None, splitter='best'),\n  DecisionTreeClassifier(class_weight=None, criterion='gini', max_depth=3,\n                       max_features=None, max_leaf_nodes=None,\n                       min_impurity_decrease=0.0, min_impurity_split=None,\n                       min_samples_leaf=1, min_samples_split=2,\n                       min_weight_fraction_leaf=0.0, presort=False,\n                       random_state=None, splitter='best')],\n [DecisionTreeClassifier(class_weight=None, criterion='gini', max_depth=3,\n                       max_features=None, max_leaf_nodes=None,\n                       min_impurity_decrease=0.0, min_impurity_split=None,\n                       min_samples_leaf=1, min_samples_split=2,\n                       min_weight_fraction_leaf=0.0, presort=False,\n                       random_state=None, splitter='best'),\n  DecisionTreeClassifier(class_weight=None, criterion='gini', max_depth=3,\n                       max_features=None, max_leaf_nodes=None,\n                       min_impurity_decrease=0.0, min_impurity_split=None,\n                       min_samples_leaf=1, min_samples_split=2,\n                       min_weight_fraction_leaf=0.0, presort=False,\n                       random_state=None, splitter='best'),\n  DecisionTreeClassifier(class_weight=None, criterion='gini', max_depth=3,\n                       max_features=None, max_leaf_nodes=None,\n                       min_impurity_decrease=0.0, min_impurity_split=None,\n                       min_samples_leaf=1, min_samples_split=2,\n                       min_weight_fraction_leaf=0.0, presort=False,\n                       random_state=None, splitter='best')],\n [DecisionTreeClassifier(class_weight=None, criterion='gini', max_depth=3,\n                       max_features=None, max_leaf_nodes=None,\n                       min_impurity_decrease=0.0, min_impurity_split=None,\n                       min_samples_leaf=1, min_samples_split=2,\n                       min_weight_fraction_leaf=0.0, presort=False,\n                       random_state=None, splitter='best'),\n  DecisionTreeClassifier(class_weight=None, criterion='gini', max_depth=3,\n                       max_features=None, max_leaf_nodes=None,\n                       min_impurity_decrease=0.0, min_impurity_split=None,\n                       min_samples_leaf=1, min_samples_split=2,\n                       min_weight_fraction_leaf=0.0, presort=False,\n                       random_state=None, splitter='best'),\n  DecisionTreeClassifier(class_weight=None, criterion='gini', max_depth=3,\n                       max_features=None, max_leaf_nodes=None,\n                       min_impurity_decrease=0.0, min_impurity_split=None,\n                       min_samples_leaf=1, min_samples_split=2,\n                       min_weight_fraction_leaf=0.0, presort=False,\n                       random_state=None, splitter='best'),\n  DecisionTreeClassifier(class_weight=None, criterion='gini', max_depth=3,\n                       max_features=None, max_leaf_nodes=None,\n                       min_impurity_decrease=0.0, min_impurity_split=None,\n                       min_samples_leaf=1, min_samples_split=2,\n                       min_weight_fraction_leaf=0.0, presort=False,\n                       random_state=None, splitter='best')]]\n"
     ],
     "output_type": "stream"
    }
   ],
   "source": [
    "decision_trees = h.f\n",
    "from pprint import pprint\n",
    "pprint(decision_trees)"
   ],
   "metadata": {
    "collapsed": false,
    "pycharm": {
     "name": "#%%\n",
     "is_executing": false
    }
   }
  },
  {
   "cell_type": "code",
   "execution_count": 16,
   "outputs": [
    {
     "name": "stdout",
     "text": [
      "crisp?\n-N-> lime?\n|    -N-> lemon?\n|    |    -N-> class 0\t(141 for class 0, 9 for class 1)\n|    |    -Y-> class 1\t(0 for class 0, 8 for class 1)\n|    -Y-> harmonious?\n|    |    -N-> class 1\t(0 for class 0, 13 for class 1)\n|    |    -Y-> class 0\t(1 for class 0, 0 for class 1)\n-Y-> red?\n|    -N-> class 1\t(0 for class 0, 30 for class 1)\n|    -Y-> class 0\t(2 for class 0, 0 for class 1)\n"
     ],
     "output_type": "stream"
    }
   ],
   "source": [
    "util.showTree(h.f[2][0], WineDataSmall.words)\n",
    "# h.f"
   ],
   "metadata": {
    "collapsed": false,
    "pycharm": {
     "name": "#%%\n",
     "is_executing": false
    }
   }
  },
  {
   "cell_type": "code",
   "execution_count": 17,
   "outputs": [
    {
     "name": "stdout",
     "text": [
      "cassis?\n-N-> acidity?\n|    -N-> duck?\n|    |    -N-> class 1\t(92 for class 0, 129 for class 1)\n|    |    -Y-> class 0\t(11 for class 0, 0 for class 1)\n|    -Y-> tannins?\n|    |    -N-> class 0\t(22 for class 0, 0 for class 1)\n|    |    -Y-> class 0\t(15 for class 0, 11 for class 1)\n-Y-> tea?\n|    -N-> 100?\n|    |    -N-> class 1\t(1 for class 0, 47 for class 1)\n|    |    -Y-> class 0\t(1 for class 0, 0 for class 1)\n|    -Y-> class 0\t(2 for class 0, 0 for class 1)\n"
     ],
     "output_type": "stream"
    }
   ],
   "source": [
    "util.showTree(h.f[2][1], WineDataSmall.words)"
   ],
   "metadata": {
    "collapsed": false,
    "pycharm": {
     "name": "#%%\n",
     "is_executing": false
    }
   }
  },
  {
   "cell_type": "code",
   "execution_count": 18,
   "outputs": [
    {
     "name": "stdout",
     "text": [
      "crisp?\n-N-> peach?\n|    -N-> pear?\n|    |    -N-> class 1\t(3 for class 0, 142 for class 1)\n|    |    -Y-> class 0\t(2 for class 0, 0 for class 1)\n|    -Y-> class 0\t(3 for class 0, 0 for class 1)\n-Y-> red?\n|    -N-> class 0\t(7 for class 0, 0 for class 1)\n|    -Y-> class 1\t(0 for class 0, 2 for class 1)\n"
     ],
     "output_type": "stream"
    }
   ],
   "source": [
    "util.showTree(h.f[3][2], WineDataSmall.words)"
   ],
   "metadata": {
    "collapsed": false,
    "pycharm": {
     "name": "#%%\n",
     "is_executing": false
    }
   }
  },
  {
   "cell_type": "code",
   "execution_count": 19,
   "outputs": [
    {
     "name": "stdout",
     "text": [
      "straw?",
      "\n-N-> crisp?\n|    -N-> shellfish?\n|    |    -N-> class 1\t(8 for class 0, 142 for class 1)\n|    |    -Y-> class 0\t(2 for class 0, 0 for class 1)\n|    -Y-> red?\n|    |    -N-> class 0\t(7 for class 0, 0 for class 1)\n|    |    -Y-> class 1\t(0 for class 0, 2 for class 1)\n-Y-> class 0\t(12 for class 0, 0 for class 1)\n"
     ],
     "output_type": "stream"
    }
   ],
   "source": [
    "util.showTree(h.f[4][2], WineDataSmall.words)"
   ],
   "metadata": {
    "collapsed": false,
    "pycharm": {
     "name": "#%%\n",
     "is_executing": false
    }
   }
  },
  {
   "cell_type": "code",
   "execution_count": null,
   "outputs": [],
   "source": [
    "# util.showTree(h.f[1][0], WineDataSmall.words)"
   ],
   "metadata": {
    "collapsed": false,
    "pycharm": {
     "name": "#%%\n"
    }
   }
  },
  {
   "cell_type": "markdown",
   "source": [
    "#### (B)"
   ],
   "metadata": {
    "collapsed": false,
    "pycharm": {
     "name": "#%% md\n"
    }
   }
  },
  {
   "cell_type": "code",
   "execution_count": 57,
   "outputs": [
    {
     "name": "stdout",
     "text": [
      "training classifier for 1 versus 0\ntraining classifier for 2 versus 0\ntraining classifier for 2 versus 1\ntraining classifier for 3 versus 0\ntraining classifier for 3 versus 1\ntraining classifier for 3 versus 2\ntraining classifier for 4 versus 0\ntraining classifier for 4 versus 1\ntraining classifier for 4 versus 2\ntraining classifier for 4 versus 3\ntraining classifier for 5 versus 0\ntraining classifier for 5 versus 1\ntraining classifier for 5 versus 2\ntraining classifier for 5 versus 3\ntraining classifier for 5 versus 4\ntraining classifier for 6 versus 0\ntraining classifier for 6 versus 1\ntraining classifier for 6 versus 2\ntraining classifier for 6 versus 3\ntraining classifier for 6 versus 4\ntraining classifier for 6 versus 5\ntraining classifier for 7 versus 0\ntraining classifier for 7 versus 1\ntraining classifier for 7 versus 2\ntraining classifier for 7 versus 3\ntraining classifier for 7 versus 4\ntraining classifier for 7 versus 5\ntraining classifier for 7 versus 6\ntraining classifier for 8 versus 0\ntraining classifier for 8 versus 1\ntraining classifier for 8 versus 2\ntraining classifier for 8 versus 3\ntraining classifier for 8 versus 4\ntraining classifier for 8 versus 5\ntraining classifier for 8 versus 6\ntraining classifier for 8 versus 7\ntraining classifier for 9 versus 0\ntraining classifier for 9 versus 1\ntraining classifier for 9 versus 2\ntraining classifier for 9 versus 3\ntraining classifier for 9 versus 4\ntraining classifier for 9 versus 5\ntraining classifier for 9 versus 6\ntraining classifier for 9 versus 7\ntraining classifier for 9 versus 8\ntraining classifier for 10 versus 0\ntraining classifier for 10 versus 1\ntraining classifier for 10 versus 2\ntraining classifier for 10 versus 3\ntraining classifier for 10 versus 4\ntraining classifier for 10 versus 5\ntraining classifier for 10 versus 6\ntraining classifier for 10 versus 7\ntraining classifier for 10 versus 8\ntraining classifier for 10 versus 9\ntraining classifier for 11 versus 0\ntraining classifier for 11 versus 1\n",
      "training classifier for 11 versus 2\ntraining classifier for 11 versus 3\ntraining classifier for 11 versus 4\ntraining classifier for 11 versus 5\ntraining classifier for 11 versus 6\ntraining classifier for 11 versus 7\ntraining classifier for 11 versus 8\ntraining classifier for 11 versus 9\ntraining classifier for 11 versus 10\ntraining classifier for 12 versus 0\ntraining classifier for 12 versus 1\ntraining classifier for 12 versus 2\ntraining classifier for 12 versus 3\ntraining classifier for 12 versus 4\ntraining classifier for 12 versus 5\ntraining classifier for 12 versus 6\ntraining classifier for 12 versus 7\ntraining classifier for 12 versus 8\ntraining classifier for 12 versus 9\ntraining classifier for 12 versus 10\ntraining classifier for 12 versus 11\ntraining classifier for 13 versus 0\ntraining classifier for 13 versus 1\ntraining classifier for 13 versus 2\ntraining classifier for 13 versus 3\ntraining classifier for 13 versus 4\ntraining classifier for 13 versus 5\ntraining classifier for 13 versus 6\ntraining classifier for 13 versus 7\ntraining classifier for 13 versus 8\ntraining classifier for 13 versus 9\ntraining classifier for 13 versus 10\ntraining classifier for 13 versus 11\ntraining classifier for 13 versus 12\ntraining classifier for 14 versus 0\ntraining classifier for 14 versus 1\ntraining classifier for 14 versus 2\ntraining classifier for 14 versus 3\ntraining classifier for 14 versus 4\ntraining classifier for 14 versus 5\ntraining classifier for 14 versus 6\ntraining classifier for 14 versus 7\ntraining classifier for 14 versus 8\ntraining classifier for 14 versus 9\ntraining classifier for 14 versus 10\ntraining classifier for 14 versus 11\ntraining classifier for 14 versus 12\ntraining classifier for 14 versus 13\ntraining classifier for 15 versus 0\ntraining classifier for 15 versus 1\ntraining classifier for 15 versus 2\ntraining classifier for 15 versus 3\ntraining classifier for 15 versus 4\ntraining classifier for 15 versus 5\ntraining classifier for 15 versus 6\ntraining classifier for 15 versus 7\ntraining classifier for 15 versus 8\ntraining classifier for 15 versus 9\ntraining classifier for 15 versus 10\ntraining classifier for 15 versus 11\ntraining classifier for 15 versus 12\ntraining classifier for 15 versus 13\ntraining classifier for 15 versus 14\ntraining classifier for 16 versus 0\ntraining classifier for 16 versus 1\ntraining classifier for 16 versus 2\ntraining classifier for 16 versus 3\ntraining classifier for 16 versus 4\ntraining classifier for 16 versus 5\ntraining classifier for 16 versus 6\ntraining classifier for 16 versus 7\ntraining classifier for 16 versus 8\ntraining classifier for 16 versus 9\ntraining classifier for 16 versus 10\ntraining classifier for 16 versus 11\ntraining classifier for 16 versus 12\ntraining classifier for 16 versus 13\ntraining classifier for 16 versus 14\ntraining classifier for 16 versus 15\n",
      "training classifier for 17 versus 0\ntraining classifier for 17 versus 1\ntraining classifier for 17 versus 2\ntraining classifier for 17 versus 3\ntraining classifier for 17 versus 4\ntraining classifier for 17 versus 5\ntraining classifier for 17 versus 6\ntraining classifier for 17 versus 7\ntraining classifier for 17 versus 8\ntraining classifier for 17 versus 9\ntraining classifier for 17 versus 10\ntraining classifier for 17 versus 11\ntraining classifier for 17 versus 12\ntraining classifier for 17 versus 13\ntraining classifier for 17 versus 14\ntraining classifier for 17 versus 15\ntraining classifier for 17 versus 16\ntraining classifier for 18 versus 0\ntraining classifier for 18 versus 1\ntraining classifier for 18 versus 2\ntraining classifier for 18 versus 3\ntraining classifier for 18 versus 4\ntraining classifier for 18 versus 5\ntraining classifier for 18 versus 6\ntraining classifier for 18 versus 7\ntraining classifier for 18 versus 8\ntraining classifier for 18 versus 9\ntraining classifier for 18 versus 10\ntraining classifier for 18 versus 11\ntraining classifier for 18 versus 12\ntraining classifier for 18 versus 13\ntraining classifier for 18 versus 14\ntraining classifier for 18 versus 15\ntraining classifier for 18 versus 16\ntraining classifier for 18 versus 17\ntraining classifier for 19 versus 0\ntraining classifier for 19 versus 1\ntraining classifier for 19 versus 2\ntraining classifier for 19 versus 3\ntraining classifier for 19 versus 4\ntraining classifier for 19 versus 5\ntraining classifier for 19 versus 6\ntraining classifier for 19 versus 7\ntraining classifier for 19 versus 8\ntraining classifier for 19 versus 9\ntraining classifier for 19 versus 10\ntraining classifier for 19 versus 11\ntraining classifier for 19 versus 12\ntraining classifier for 19 versus 13\ntraining classifier for 19 versus 14\ntraining classifier for 19 versus 15\ntraining classifier for 19 versus 16\ntraining classifier for 19 versus 17\ntraining classifier for 19 versus 18\n"
     ],
     "output_type": "stream"
    },
    {
     "data": {
      "text/plain": "0.2690166975881262"
     },
     "metadata": {},
     "output_type": "execute_result",
     "execution_count": 57
    }
   ],
   "source": [
    "import time\n",
    "\n",
    "h = multiclass.AVA(20, lambda: DecisionTreeClassifier(max_depth=3))\n",
    "start_time = time.time()\n",
    "h.train(WineData.X, WineData.Y)\n",
    "end_time = time.time()\n",
    "P = h.predictAll(WineData.Xte, useZeroOne=False)\n",
    "mean(WineData.Yte == P)"
   ],
   "metadata": {
    "collapsed": false,
    "pycharm": {
     "name": "#%%\n",
     "is_executing": false
    }
   }
  },
  {
   "cell_type": "code",
   "execution_count": 55,
   "outputs": [
    {
     "name": "stdout",
     "text": [
      "0.5218260288238525\n"
     ],
     "output_type": "stream"
    }
   ],
   "source": [
    "print(end_time - start_time)"
   ],
   "metadata": {
    "collapsed": false,
    "pycharm": {
     "name": "#%% \n",
     "is_executing": false
    }
   }
  },
  {
   "cell_type": "code",
   "execution_count": 6,
   "outputs": [
    {
     "data": {
      "text/plain": "'Viognier'"
     },
     "metadata": {},
     "output_type": "execute_result",
     "execution_count": 6
    }
   ],
   "source": [
    "WineData.labels[17]"
   ],
   "metadata": {
    "collapsed": false,
    "pycharm": {
     "name": "#%%\n",
     "is_executing": false
    }
   }
  },
  {
   "cell_type": "code",
   "execution_count": 35,
   "outputs": [
    {
     "name": "stdout",
     "text": [
      "peaches?\n-N-> white?\n|    -N-> stone?\n|    |    -N-> class 1\t(0 for class 0, 45 for class 1)\n|    |    -Y-> class 0\t(1 for class 0, 0 for class 1)\n|    -Y-> class 0\t(3 for class 0, 0 for class 1)\n-Y-> class 0\t(4 for class 0, 0 for class 1)\n"
     ],
     "output_type": "stream"
    }
   ],
   "source": [
    "util.showTree(h.f[17][13], WineData.words)\n",
    "\n"
   ],
   "metadata": {
    "collapsed": false,
    "pycharm": {
     "name": "#%%\n",
     "is_executing": false
    }
   }
  },
  {
   "cell_type": "code",
   "execution_count": 4,
   "outputs": [
    {
     "name": "stdout",
     "text": [
      "training classifier for [0, 1, 2] versus [3, 4, 5]\ntraining classifier for [0] versus [1, 2]\ntraining classifier for [1] versus [2]\ntraining classifier for [3] versus [4, 5]\ntraining classifier for [4] versus [5]\n"
     ],
     "output_type": "stream"
    },
    {
     "data": {
      "text/plain": "0.5820568927789934"
     },
     "metadata": {},
     "output_type": "execute_result",
     "execution_count": 4
    }
   ],
   "source": [
    "from sklearn.tree import DecisionTreeClassifier\n",
    "import multiclass\n",
    "import util\n",
    "from datasets import *\n",
    "\n",
    "t = multiclass.makeBalancedTree(range(6))\n",
    "h = multiclass.MCTree(t, lambda : DecisionTreeClassifier(max_depth=3))\n",
    "h.train(WineDataSmall.X, WineDataSmall.Y)\n",
    "P = h.predictAll(WineDataSmall.Xte)\n",
    "mean(P == WineDataSmall.Yte)"
   ],
   "metadata": {
    "collapsed": false,
    "pycharm": {
     "name": "#%%\n",
     "is_executing": false
    }
   }
  },
  {
   "cell_type": "code",
   "execution_count": null,
   "outputs": [],
   "source": [
    "\n"
   ],
   "metadata": {
    "collapsed": false,
    "pycharm": {
     "name": "#%%\n"
    }
   }
  }
 ],
 "metadata": {
  "kernelspec": {
   "name": "pycharm-d4dfc409",
   "language": "python",
   "display_name": "PyCharm (progamming_assignment1)"
  },
  "language_info": {
   "codemirror_mode": {
    "name": "ipython",
    "version": 3
   },
   "file_extension": ".py",
   "mimetype": "text/x-python",
   "name": "python",
   "nbconvert_exporter": "python",
   "pygments_lexer": "ipython3",
   "version": "3.7.4"
  },
  "pycharm": {
   "stem_cell": {
    "cell_type": "raw",
    "source": [],
    "metadata": {
     "collapsed": false
    }
   }
  }
 },
 "nbformat": 4,
 "nbformat_minor": 4
}